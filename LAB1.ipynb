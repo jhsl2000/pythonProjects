{
  "nbformat": 4,
  "nbformat_minor": 0,
  "metadata": {
    "colab": {
      "name": "LAB1.ipynb",
      "provenance": [],
      "include_colab_link": true
    },
    "kernelspec": {
      "name": "python3",
      "display_name": "Python 3"
    },
    "language_info": {
      "name": "python"
    }
  },
  "cells": [
    {
      "cell_type": "markdown",
      "metadata": {
        "id": "view-in-github",
        "colab_type": "text"
      },
      "source": [
        "<a href=\"https://colab.research.google.com/github/jhsl2000/pythonProjects/blob/main/LAB1.ipynb\" target=\"_parent\"><img src=\"https://colab.research.google.com/assets/colab-badge.svg\" alt=\"Open In Colab\"/></a>"
      ]
    },
    {
      "cell_type": "markdown",
      "metadata": {
        "id": "ZhR7-3VbBCBq"
      },
      "source": [
        "Construção da dataframe"
      ]
    },
    {
      "cell_type": "code",
      "metadata": {
        "id": "TdOdDIKXKr1G"
      },
      "source": [
        "import pandas as pd\n",
        "import numpy as np\n"
      ],
      "execution_count": null,
      "outputs": []
    },
    {
      "cell_type": "code",
      "metadata": {
        "colab": {
          "base_uri": "https://localhost:8080/",
          "height": 204
        },
        "id": "3bxtGaNDVxeD",
        "outputId": "e8366356-ec92-415a-b919-a596658d789e"
      },
      "source": [
        "x1 = pd.read_csv('X1.txt', sep=\" \", header=None).drop(columns=[1])\n",
        "x1 = x1.rename(columns={0: \"supervised\"})\n",
        "\n",
        "x2 = pd.read_csv('X2.txt', sep=\" \", header=None).drop(columns=[1])\n",
        "x2 = x2.rename(columns={0: \"generative\"})\n",
        "\n",
        "labels = pd.read_csv('Labels.txt', sep=\" \", header=None).drop(columns=[1])\n",
        "labels = labels.rename(columns={0: \"Labels\"})\n",
        "\n",
        "supervised = pd.concat([x1, labels], axis=1)\n",
        "supervised.head()\n"
      ],
      "execution_count": null,
      "outputs": [
        {
          "output_type": "execute_result",
          "data": {
            "text/html": [
              "<div>\n",
              "<style scoped>\n",
              "    .dataframe tbody tr th:only-of-type {\n",
              "        vertical-align: middle;\n",
              "    }\n",
              "\n",
              "    .dataframe tbody tr th {\n",
              "        vertical-align: top;\n",
              "    }\n",
              "\n",
              "    .dataframe thead th {\n",
              "        text-align: right;\n",
              "    }\n",
              "</style>\n",
              "<table border=\"1\" class=\"dataframe\">\n",
              "  <thead>\n",
              "    <tr style=\"text-align: right;\">\n",
              "      <th></th>\n",
              "      <th>supervised</th>\n",
              "      <th>Labels</th>\n",
              "    </tr>\n",
              "  </thead>\n",
              "  <tbody>\n",
              "    <tr>\n",
              "      <th>0</th>\n",
              "      <td>11.167833</td>\n",
              "      <td>1</td>\n",
              "    </tr>\n",
              "    <tr>\n",
              "      <th>1</th>\n",
              "      <td>17.894127</td>\n",
              "      <td>1</td>\n",
              "    </tr>\n",
              "    <tr>\n",
              "      <th>2</th>\n",
              "      <td>18.764783</td>\n",
              "      <td>1</td>\n",
              "    </tr>\n",
              "    <tr>\n",
              "      <th>3</th>\n",
              "      <td>20.933105</td>\n",
              "      <td>1</td>\n",
              "    </tr>\n",
              "    <tr>\n",
              "      <th>4</th>\n",
              "      <td>17.196753</td>\n",
              "      <td>1</td>\n",
              "    </tr>\n",
              "  </tbody>\n",
              "</table>\n",
              "</div>"
            ],
            "text/plain": [
              "   supervised  Labels\n",
              "0   11.167833       1\n",
              "1   17.894127       1\n",
              "2   18.764783       1\n",
              "3   20.933105       1\n",
              "4   17.196753       1"
            ]
          },
          "metadata": {},
          "execution_count": 35
        }
      ]
    },
    {
      "cell_type": "code",
      "metadata": {
        "colab": {
          "base_uri": "https://localhost:8080/",
          "height": 204
        },
        "id": "xqz5eAg7_8oD",
        "outputId": "ba6e8e9e-f0d3-4164-b95f-b3eecf9f1f00"
      },
      "source": [
        "generative = pd.concat([x2, labels], axis=1)\n",
        "generative.head()"
      ],
      "execution_count": null,
      "outputs": [
        {
          "output_type": "execute_result",
          "data": {
            "text/html": [
              "<div>\n",
              "<style scoped>\n",
              "    .dataframe tbody tr th:only-of-type {\n",
              "        vertical-align: middle;\n",
              "    }\n",
              "\n",
              "    .dataframe tbody tr th {\n",
              "        vertical-align: top;\n",
              "    }\n",
              "\n",
              "    .dataframe thead th {\n",
              "        text-align: right;\n",
              "    }\n",
              "</style>\n",
              "<table border=\"1\" class=\"dataframe\">\n",
              "  <thead>\n",
              "    <tr style=\"text-align: right;\">\n",
              "      <th></th>\n",
              "      <th>generative</th>\n",
              "      <th>Labels</th>\n",
              "    </tr>\n",
              "  </thead>\n",
              "  <tbody>\n",
              "    <tr>\n",
              "      <th>0</th>\n",
              "      <td>0.999944</td>\n",
              "      <td>1</td>\n",
              "    </tr>\n",
              "    <tr>\n",
              "      <th>1</th>\n",
              "      <td>1.000000</td>\n",
              "      <td>1</td>\n",
              "    </tr>\n",
              "    <tr>\n",
              "      <th>2</th>\n",
              "      <td>1.000000</td>\n",
              "      <td>1</td>\n",
              "    </tr>\n",
              "    <tr>\n",
              "      <th>3</th>\n",
              "      <td>1.000000</td>\n",
              "      <td>1</td>\n",
              "    </tr>\n",
              "    <tr>\n",
              "      <th>4</th>\n",
              "      <td>1.000000</td>\n",
              "      <td>1</td>\n",
              "    </tr>\n",
              "  </tbody>\n",
              "</table>\n",
              "</div>"
            ],
            "text/plain": [
              "   generative  Labels\n",
              "0    0.999944       1\n",
              "1    1.000000       1\n",
              "2    1.000000       1\n",
              "3    1.000000       1\n",
              "4    1.000000       1"
            ]
          },
          "metadata": {},
          "execution_count": 24
        }
      ]
    },
    {
      "cell_type": "markdown",
      "metadata": {
        "id": "FxFYzNoSA9Cn"
      },
      "source": [
        "Alinea a"
      ]
    },
    {
      "cell_type": "code",
      "metadata": {
        "colab": {
          "base_uri": "https://localhost:8080/"
        },
        "id": "a9Ulq4HdCJSH",
        "outputId": "40d5d3fd-c3e6-4e59-ee8b-1d6cff8797e5"
      },
      "source": [
        "len(labels[labels[\"Labels\"] == 1])"
      ],
      "execution_count": null,
      "outputs": [
        {
          "output_type": "execute_result",
          "data": {
            "text/plain": [
              "400"
            ]
          },
          "metadata": {},
          "execution_count": 25
        }
      ]
    },
    {
      "cell_type": "code",
      "metadata": {
        "colab": {
          "base_uri": "https://localhost:8080/"
        },
        "id": "Hsud3aCYCZZ4",
        "outputId": "51a942db-1d86-4b30-d6ec-63c8b0ccca35"
      },
      "source": [
        "len(labels[labels[\"Labels\"] == 0])"
      ],
      "execution_count": null,
      "outputs": [
        {
          "output_type": "execute_result",
          "data": {
            "text/plain": [
              "1000"
            ]
          },
          "metadata": {},
          "execution_count": 26
        }
      ]
    },
    {
      "cell_type": "markdown",
      "metadata": {
        "id": "nvpdP_V8Ch0R"
      },
      "source": [
        "##True Positives, True Negatives, False Positives and False Negatives\n",
        "\n",
        "\n",
        "> Supervised Classifier\n",
        "\n"
      ]
    },
    {
      "cell_type": "code",
      "metadata": {
        "colab": {
          "base_uri": "https://localhost:8080/"
        },
        "id": "hd_frE0MDnlV",
        "outputId": "4d643e85-09e6-4717-fa5e-00dcfe7546ef"
      },
      "source": [
        "#True Positives\n",
        "\n",
        "tp_sup= len(supervised[(supervised[\"Labels\"] == 1) & (supervised[\"supervised\"] > 0)])\n",
        "tp_sup"
      ],
      "execution_count": null,
      "outputs": [
        {
          "output_type": "execute_result",
          "data": {
            "text/plain": [
              "343"
            ]
          },
          "metadata": {},
          "execution_count": 32
        }
      ]
    },
    {
      "cell_type": "code",
      "metadata": {
        "colab": {
          "base_uri": "https://localhost:8080/"
        },
        "id": "0e9bNdhQErJk",
        "outputId": "be915d12-6b82-48e3-9067-467298538535"
      },
      "source": [
        "#True Negatives\n",
        "\n",
        "tn_sup = len(supervised[(supervised[\"Labels\"] == 0) & (supervised[\"supervised\"] < 0)])\n",
        "tn_sup"
      ],
      "execution_count": null,
      "outputs": [
        {
          "output_type": "execute_result",
          "data": {
            "text/plain": [
              "906"
            ]
          },
          "metadata": {},
          "execution_count": 36
        }
      ]
    },
    {
      "cell_type": "code",
      "metadata": {
        "colab": {
          "base_uri": "https://localhost:8080/"
        },
        "id": "0SDTyRbtFbSH",
        "outputId": "89f6b569-c822-4645-a170-5bb50e3ec3ef"
      },
      "source": [
        "#False Positives\n",
        "\n",
        "fp_sup = len(supervised[(supervised[\"Labels\"] == 0) & (supervised[\"supervised\"] > 0)])\n",
        "fp_sup"
      ],
      "execution_count": null,
      "outputs": [
        {
          "output_type": "execute_result",
          "data": {
            "text/plain": [
              "94"
            ]
          },
          "metadata": {},
          "execution_count": 38
        }
      ]
    },
    {
      "cell_type": "code",
      "metadata": {
        "colab": {
          "base_uri": "https://localhost:8080/"
        },
        "id": "KIy7zaRfFpfA",
        "outputId": "05eed438-7353-4fc5-fc0a-9c42bfe7fbf6"
      },
      "source": [
        "#False Negatives\n",
        "\n",
        "fn_sup = len(supervised[(supervised[\"Labels\"] == 1) & (supervised[\"supervised\"] < 0)])\n",
        "fn_sup"
      ],
      "execution_count": null,
      "outputs": [
        {
          "output_type": "execute_result",
          "data": {
            "text/plain": [
              "57"
            ]
          },
          "metadata": {},
          "execution_count": 39
        }
      ]
    },
    {
      "cell_type": "markdown",
      "metadata": {
        "id": "29nbMBBJG7Pj"
      },
      "source": [
        "> Generative Classifier\n"
      ]
    },
    {
      "cell_type": "code",
      "metadata": {
        "id": "DwuueA3cHT6H"
      },
      "source": [
        "#True Positives\n",
        "\n",
        "tp_gen= len(generative[(generative[\"Labels\"] == 1) & (supervised[\"generative\"] > 0)])\n",
        "tp_gen"
      ],
      "execution_count": null,
      "outputs": []
    },
    {
      "cell_type": "code",
      "metadata": {
        "id": "n0wCsBdsHaoa"
      },
      "source": [
        "#True Negatives\n",
        "\n",
        "tp_gen= len(generative[(generative[\"Labels\"] == 1) & (supervised[\"generative\"] > 0)])\n",
        "tp_gen"
      ],
      "execution_count": null,
      "outputs": []
    },
    {
      "cell_type": "code",
      "metadata": {
        "id": "nfn2XSR6JZIB"
      },
      "source": [
        "#False Positives\n",
        "\n",
        "tp_gen= len(generative[(generative[\"Labels\"] == 1) & (supervised[\"generative\"] > 0)])\n",
        "tp_gen"
      ],
      "execution_count": null,
      "outputs": []
    },
    {
      "cell_type": "code",
      "metadata": {
        "id": "YWOuWWpXJZRl"
      },
      "source": [
        "#False Negatives\n",
        "\n",
        "tp_gen= len(generative[(generative[\"Labels\"] == 1) & (supervised[\"generative\"] > 0)])\n",
        "tp_gen"
      ],
      "execution_count": null,
      "outputs": []
    }
  ]
}